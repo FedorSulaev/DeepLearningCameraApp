{
 "cells": [
  {
   "cell_type": "code",
   "execution_count": 8,
   "metadata": {
    "collapsed": false
   },
   "outputs": [
    {
     "name": "stdout",
     "output_type": "stream",
     "text": [
      "('Found and verified', 'train.tar.gz')\n",
      "('Found and verified', 'test.tar.gz')\n",
      "('Found and verified', 'extra.tar.gz')\n",
      "('Found and verified', 'train_32x32.mat')\n",
      "('Found and verified', 'test_32x32.mat')\n",
      "('Found and verified', 'extra_32x32.mat')\n"
     ]
    }
   ],
   "source": [
    "import os\n",
    "from six.moves.urllib.request import urlretrieve\n",
    "\n",
    "url = 'http://ufldl.stanford.edu/housenumbers/'\n",
    "data_folder = 'data/'\n",
    "\n",
    "def download_data(filename, expected_bytes, force=False):\n",
    "    \"\"\"Download a file if not present, and make sure it's the right size.\"\"\"\n",
    "    file_path = data_folder + filename\n",
    "    if force or not os.path.exists(file_path):\n",
    "        filename, _ = urlretrieve(url + filename, file_path)\n",
    "    statinfo = os.stat(file_path)\n",
    "    if statinfo.st_size == expected_bytes:\n",
    "        print('Found and verified', filename)\n",
    "    else:\n",
    "        raise Exception(\n",
    "          'Failed to verify ' + filename + '. Can you get to it with a browser?')\n",
    "    return filename\n",
    "\n",
    "def extract_data(filename, force=False):\n",
    "    \n",
    "\n",
    "train_filename = download_data('train.tar.gz', 404141560)\n",
    "test_filename = download_data('test.tar.gz', 276555967)\n",
    "extra_filename = download_data('extra.tar.gz', 1955489752)\n",
    "\n",
    "cropped_train_filename = download_data('train_32x32.mat', 182040794)\n",
    "cropped_test_filename = download_data('test_32x32.mat', 64275384)\n",
    "cropped_extra_filename = download_data('extra_32x32.mat', 990297376)"
   ]
  },
  {
   "cell_type": "code",
   "execution_count": null,
   "metadata": {
    "collapsed": true
   },
   "outputs": [],
   "source": []
  }
 ],
 "metadata": {
  "kernelspec": {
   "display_name": "Python 2",
   "language": "python",
   "name": "python2"
  },
  "language_info": {
   "codemirror_mode": {
    "name": "ipython",
    "version": 2
   },
   "file_extension": ".py",
   "mimetype": "text/x-python",
   "name": "python",
   "nbconvert_exporter": "python",
   "pygments_lexer": "ipython2",
   "version": "2.7.11"
  }
 },
 "nbformat": 4,
 "nbformat_minor": 0
}
