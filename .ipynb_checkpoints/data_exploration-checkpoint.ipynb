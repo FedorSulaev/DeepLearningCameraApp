{
 "cells": [
  {
   "cell_type": "code",
   "execution_count": null,
   "metadata": {
    "collapsed": false
   },
   "outputs": [],
   "source": [
    "import os\n",
    "import sys\n",
    "import tarfile\n",
    "from six.moves.urllib.request import urlretrieve\n",
    "\n",
    "url = 'http://ufldl.stanford.edu/housenumbers/'\n",
    "data_folder = 'data/'\n",
    "\n",
    "if not os.path.exists(data_folder):\n",
    "    os.makedirs(data_folder)\n",
    "\n",
    "def download_data(filename, expected_bytes, force=False):\n",
    "    \"\"\"Download a file if not present, and make sure it's the right size.\"\"\"\n",
    "    file_path = data_folder + filename\n",
    "    if force or not os.path.exists(file_path):\n",
    "        filename, _ = urlretrieve(url + filename, file_path)\n",
    "    statinfo = os.stat(file_path)\n",
    "    if statinfo.st_size == expected_bytes:\n",
    "        print('Found and verified', filename)\n",
    "    else:\n",
    "        raise Exception(\n",
    "          'Failed to verify ' + filename + '. Can you get to it with a browser?')\n",
    "    return filename\n",
    "\n",
    "def extract_data(filename, force=False):\n",
    "    # remove .tar.gz\n",
    "    root = data_folder + os.path.splitext(os.path.splitext(filename)[0])[0]\n",
    "    if os.path.isdir(root) and not force:\n",
    "        # You may override by setting force=True.\n",
    "        print('%s already present - Skipping extraction of %s.' % (root, filename))\n",
    "    else:\n",
    "        print('Extracting data for %s. This may take a while. Please wait.' % root)\n",
    "        tar = tarfile.open(data_folder + filename)\n",
    "        sys.stdout.flush()\n",
    "        tar.extractall(data_folder)\n",
    "        tar.close()\n",
    "    return root\n",
    "\n",
    "train_filename = download_data('train.tar.gz', 404141560)\n",
    "test_filename = download_data('test.tar.gz', 276555967)\n",
    "extra_filename = download_data('extra.tar.gz', 1955489752)\n",
    "\n",
    "cropped_train_filename = download_data('train_32x32.mat', 182040794)\n",
    "cropped_test_filename = download_data('test_32x32.mat', 64275384)\n",
    "cropped_extra_filename = download_data('extra_32x32.mat', 990297376)\n",
    "\n",
    "train_folder = extract_data('train.tar.gz')\n",
    "test_folder = extract_data('test.tar.gz')\n",
    "extra_folder = extract_data('extra.tar.gz')"
   ]
  },
  {
   "cell_type": "code",
   "execution_count": null,
   "metadata": {
    "collapsed": true
   },
   "outputs": [],
   "source": []
  }
 ],
 "metadata": {
  "kernelspec": {
   "display_name": "Python 3",
   "language": "python",
   "name": "python3"
  },
  "language_info": {
   "codemirror_mode": {
    "name": "ipython",
    "version": 3
   },
   "file_extension": ".py",
   "mimetype": "text/x-python",
   "name": "python",
   "nbconvert_exporter": "python",
   "pygments_lexer": "ipython3",
   "version": "3.5.1"
  }
 },
 "nbformat": 4,
 "nbformat_minor": 0
}
